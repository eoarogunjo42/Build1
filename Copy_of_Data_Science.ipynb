{
  "nbformat": 4,
  "nbformat_minor": 0,
  "metadata": {
    "colab": {
      "provenance": [],
      "authorship_tag": "ABX9TyMLFnmJuVKa10+PZvoBP2dr",
      "include_colab_link": true
    },
    "kernelspec": {
      "name": "python3",
      "display_name": "Python 3"
    },
    "language_info": {
      "name": "python"
    }
  },
  "cells": [
    {
      "cell_type": "markdown",
      "metadata": {
        "id": "view-in-github",
        "colab_type": "text"
      },
      "source": [
        "<a href=\"https://colab.research.google.com/github/eoarogunjo42/Build1/blob/main/Copy_of_Data_Science.ipynb\" target=\"_parent\"><img src=\"https://colab.research.google.com/assets/colab-badge.svg\" alt=\"Open In Colab\"/></a>"
      ]
    },
    {
      "cell_type": "markdown",
      "source": [
        "Exercise 1 of Exception Handling"
      ],
      "metadata": {
        "id": "muHfgTeyGrJT"
      }
    },
    {
      "cell_type": "code",
      "execution_count": null,
      "metadata": {
        "id": "oaD2QbwEVtCm",
        "colab": {
          "base_uri": "https://localhost:8080/"
        },
        "outputId": "337367aa-7952-4b23-cd8e-99ab31f2b722"
      },
      "outputs": [
        {
          "output_type": "stream",
          "name": "stdout",
          "text": [
            "Enter Number-5\n",
            "Number is invalid for squareroot operation\n",
            "None\n"
          ]
        }
      ],
      "source": [
        "import math\n",
        "def square_root(number1):\n",
        "  try:\n",
        "   return math.sqrt(number1)\n",
        "  except:\n",
        "    print(\"Number is invalid for squareroot operation\")\n",
        "\n",
        "number_1 = float(input(\"Enter Number\"))\n",
        "sqr_rt = square_root(number_1)\n",
        "print(sqr_rt)\n"
      ]
    },
    {
      "cell_type": "markdown",
      "source": [
        "Classes and Objects"
      ],
      "metadata": {
        "id": "U9BrIhfJhufz"
      }
    },
    {
      "cell_type": "code",
      "source": [
        "class Car:\n",
        "  Max_Speed = 100\n",
        "  def __init__(self, make, model, color, speed=0):\n",
        "    self.make = make\n",
        "    self.model = model\n",
        "    self.color = color\n",
        "    self.speed = speed\n",
        "\n",
        "  def accelerate(self, acceleration ):\n",
        "    if self.speed + acceleration <= Car.Max_Speed:\n",
        "      self.speed = self.speed + acceleration\n",
        "    else:\n",
        "      self.speed = Car.Max_Speed\n",
        "    return self.speed\n",
        "\n",
        "\n",
        "car1 = Car(\"Toyota\", \"2022\", \"Red\")\n",
        "car2 = Car(\"Honda\", \"2023\", \"Blue\")\n",
        "\n",
        "car1_speed = car1.accelerate(20)\n",
        "car2_speed = car2.accelerate(10)\n",
        "print(f\"  {car1.make} {car1.model} speed is {car1_speed}\")\n",
        "\n",
        "\n"
      ],
      "metadata": {
        "colab": {
          "base_uri": "https://localhost:8080/"
        },
        "id": "NXb3qPz9hzoX",
        "outputId": "8c0627b4-f7fc-424d-eee9-21e842e882af"
      },
      "execution_count": null,
      "outputs": [
        {
          "output_type": "stream",
          "name": "stdout",
          "text": [
            "  Toyota 2022 speed is 20\n"
          ]
        }
      ]
    },
    {
      "cell_type": "code",
      "source": [
        "\"\""
      ],
      "metadata": {
        "id": "QpHzFWXKlMTU"
      },
      "execution_count": null,
      "outputs": []
    },
    {
      "cell_type": "markdown",
      "source": [
        "Text Analysis"
      ],
      "metadata": {
        "id": "dtYSpIPPz0O5"
      }
    },
    {
      "cell_type": "code",
      "source": [
        "givenstring=\"Lorem ipsum dolor! diam amet, consetetur Lorem magna. sed diam nonumy eirmod tempor. diam et labore? et diam magna. et diam amet.\""
      ],
      "metadata": {
        "id": "aW2e-4WTz7M5"
      },
      "execution_count": null,
      "outputs": []
    },
    {
      "cell_type": "code",
      "source": [
        "import re\n",
        "class TextAnalyzer(object):\n",
        "  def __init__(self, text):\n",
        "    pattern = r\"\\W\"\n",
        "    text = re.sub(pattern,' ',text)\n",
        "    text = text.lower();\n",
        "    self.text = text\n",
        "\n",
        "  def freqAll(self):\n",
        "    new_text = self.text.split(' ')\n",
        "    new_text_set = set(new_text)\n",
        "    dict1 = {}\n",
        "    for word1 in new_text_set:\n",
        "      freq = new_text.count(word1)\n",
        "      dict1[word1] = freq\n",
        "    return dict1\n",
        "  def freqof(self,word):\n",
        "    dict2 = self.freqAll()\n",
        "    count1 = 0;\n",
        "    if word in dict2:\n",
        "      count1 = dict2[word]\n",
        "    return count1\n",
        "\n"
      ],
      "metadata": {
        "id": "0L3DtQ1r0BP2"
      },
      "execution_count": null,
      "outputs": []
    },
    {
      "cell_type": "code",
      "source": [
        "givenstring = \"Lorem ipsum dolor! diam amet, consetetur Lorem magna. sed diam nonumy eirmod tempor. diam et labore? et diam magna. et diam amet.\"\n",
        "analyze_text1 = TextAnalyzer(givenstring)\n",
        "print(analyze_text1.text)\n",
        "count1 = analyze_text1.freqof(\"et\")\n",
        "print(count1)\n"
      ],
      "metadata": {
        "id": "Km9vkQOpGNGU",
        "outputId": "ea53930d-fb98-43b4-b384-484177dd6d70",
        "colab": {
          "base_uri": "https://localhost:8080/"
        }
      },
      "execution_count": null,
      "outputs": [
        {
          "output_type": "stream",
          "name": "stdout",
          "text": [
            "lorem ipsum dolor  diam amet  consetetur lorem magna  sed diam nonumy eirmod tempor  diam et labore  et diam magna  et diam amet \n",
            "3\n"
          ]
        }
      ]
    }
  ]
}